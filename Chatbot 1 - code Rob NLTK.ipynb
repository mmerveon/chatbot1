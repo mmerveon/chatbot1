{
 "cells": [
  {
   "cell_type": "code",
   "execution_count": 1,
   "metadata": {},
   "outputs": [],
   "source": [
    "# Install a pip package in the current Jupyter kernel\n",
    "import sys\n",
    "!{sys.executable} -m pip install nltk tensorflow tflearn\n"
   ]
  },
  {
   "cell_type": "code",
   "execution_count": 2,
   "metadata": {},
   "outputs": [
    {
     "name": "stderr",
     "output_type": "stream",
     "text": [
      "[nltk_data] Downloading package punkt to /home/lcur0983/nltk_data...\n",
      "[nltk_data]   Package punkt is already up-to-date!\n"
     ]
    },
    {
     "data": {
      "text/plain": [
       "True"
      ]
     },
     "execution_count": 2,
     "metadata": {},
     "output_type": "execute_result"
    }
   ],
   "source": [
    "import nltk\n",
    "nltk.download('punkt')"
   ]
  },
  {
   "cell_type": "code",
   "execution_count": 10,
   "metadata": {},
   "outputs": [
    {
     "name": "stdout",
     "output_type": "stream",
     "text": [
      "Writing 'intents_json' (str) to file 'intents.json'.\n"
     ]
    }
   ],
   "source": [
    "intents_json = \"\"\"\n",
    " {\"intents\": [\n",
    "        {\"tag\": \"greeting\",\n",
    "         \"patterns\": [\"Hi there\", \"How are you\", \"Is anyone there?\",\"Hey\",\"Hola\", \"Hello\", \"Good day\"],\n",
    "         \"responses\": [\"Hello\", \"Good to see you again\", \"Hi there, how can I help?\"],\n",
    "         \"context\": [\"\"]\n",
    "        },\n",
    "        {\"tag\": \"goodbye\",\n",
    "         \"patterns\": [\"Bye\", \"See you later\", \"Goodbye\", \"Nice chatting to you, bye\", \"Till next time\"],\n",
    "         \"responses\": [\"See you!\", \"Have a nice day\", \"Bye! Come back again soon.\"],\n",
    "         \"context\": [\"\"]\n",
    "        },\n",
    "        {\"tag\": \"thanks\",\n",
    "         \"patterns\": [\"Thanks\", \"Thank you\", \"That's helpful\", \"Awesome, thanks\", \"Thanks for helping me\"],\n",
    "         \"responses\": [\"My pleasure\", \"You're Welcome\"],\n",
    "         \"context\": [\"\"]\n",
    "        },\n",
    "        {\"tag\": \"query\",\n",
    "         \"patterns\": [\"What is big bang?\"],\n",
    "         \"responses\": [\"The Big Bang theory is the prevailing cosmological model explaining the existence of the observable universe from the earliest known periods through its subsequent large-scale evolution.\"],\n",
    "         \"context\": [\"\"]\n",
    "        } \n",
    "    ]\n",
    " }\n",
    " \"\"\"\n",
    "\n",
    "%store intents_json >intents.json"
   ]
  },
  {
   "cell_type": "code",
   "execution_count": 3,
   "metadata": {},
   "outputs": [
    {
     "name": "stdout",
     "output_type": "stream",
     "text": [
      "WARNING:tensorflow:From /sw/arch/Debian10/EB_production/2021/software/TensorFlow/2.6.0-foss-2021a-CUDA-11.3.1/lib/python3.9/site-packages/tensorflow/python/compat/v2_compat.py:101: disable_resource_variables (from tensorflow.python.ops.variable_scope) is deprecated and will be removed in a future version.\n",
      "Instructions for updating:\n",
      "non-resource variables are not supported in the long term\n"
     ]
    }
   ],
   "source": [
    "import nltk\n",
    "from nltk.stem.lancaster import LancasterStemmer\n",
    "import numpy as np\n",
    "import tflearn\n",
    "import tensorflow as tf\n",
    "import json\n",
    "import pickle\n",
    "import random"
   ]
  },
  {
   "cell_type": "code",
   "execution_count": 4,
   "metadata": {},
   "outputs": [],
   "source": [
    "#Loading intents.json\n",
    "with open('intents.json') as intents:\n",
    "  data = json.load(intents)\n",
    "\n",
    "stemmer = LancasterStemmer()\n",
    "\n",
    "# getting informations from intents.json--\n",
    "words = []\n",
    "labels = []\n",
    "x_docs = []\n",
    "y_docs = []\n",
    "\n",
    "for intent in data['intents']:\n",
    "    for pattern in intent['patterns']:\n",
    "        wrds = nltk.word_tokenize(pattern)\n",
    "        words.extend(wrds)\n",
    "        x_docs.append(wrds)\n",
    "        y_docs.append(intent['tag'])\n",
    "\n",
    "        if intent['tag'] not in labels:\n",
    "            labels.append(intent['tag'])"
   ]
  },
  {
   "cell_type": "code",
   "execution_count": 5,
   "metadata": {},
   "outputs": [],
   "source": [
    "# Stemming the words and removing duplicate elements.\n",
    "words = [stemmer.stem(w.lower()) for w in words if w not in \"?\"]\n",
    "words = sorted(list(set(words)))\n",
    "labels = sorted(labels)"
   ]
  },
  {
   "cell_type": "code",
   "execution_count": 6,
   "metadata": {},
   "outputs": [],
   "source": [
    "training = []\n",
    "output = []\n",
    "out_empty = [0 for _ in range(len(labels))]\n",
    "\n",
    "# One hot encoding, Converting the words to numerals\n",
    "for x, doc in enumerate(x_docs):\n",
    "    bag = []\n",
    "    wrds = [stemmer.stem(w) for w in doc]\n",
    "    for w in words:\n",
    "        if w in wrds:\n",
    "            bag.append(1)\n",
    "        else:\n",
    "            bag.append(0)\n",
    "\n",
    "\n",
    "    output_row = out_empty[:]\n",
    "    output_row[labels.index(y_docs[x])] = 1\n",
    "\n",
    "    training.append(bag)\n",
    "    output.append(output_row)\n",
    "\n",
    "\n",
    "training = np.array(training)\n",
    "output = np.array(output)"
   ]
  },
  {
   "cell_type": "code",
   "execution_count": 7,
   "metadata": {},
   "outputs": [
    {
     "name": "stdout",
     "output_type": "stream",
     "text": [
      "Training Step: 1499  | total loss: \u001b[1m\u001b[32m0.02922\u001b[0m\u001b[0m | time: 0.008s\n",
      "| Adam | epoch: 500 | loss: 0.02922 - acc: 1.0000 -- iter: 16/18\n",
      "Training Step: 1500  | total loss: \u001b[1m\u001b[32m0.03897\u001b[0m\u001b[0m | time: 0.010s\n",
      "| Adam | epoch: 500 | loss: 0.03897 - acc: 1.0000 -- iter: 18/18\n",
      "--\n",
      "INFO:tensorflow:/home/lcur0983/JHL_notebooks/CHATBOT/NLTK/model.tflearn is not in all_model_checkpoint_paths. Manually adding it.\n"
     ]
    }
   ],
   "source": [
    "net = tflearn.input_data(shape=[None, len(training[0])])\n",
    "net = tflearn.fully_connected(net, 10)\n",
    "net = tflearn.fully_connected(net, 10)\n",
    "net = tflearn.fully_connected(net, 10)\n",
    "net = tflearn.fully_connected(net, len(output[0]), activation='softmax')\n",
    "net = tflearn.regression(net)\n",
    "\n",
    "model = tflearn.DNN(net)\n",
    "model.fit(training, output, n_epoch=500, batch_size=8, show_metric=True)\n",
    "model.save('model.tflearn')"
   ]
  },
  {
   "cell_type": "code",
   "execution_count": 8,
   "metadata": {},
   "outputs": [],
   "source": [
    "def bag_of_words(s, words):\n",
    "    bag = [0 for _ in range(len(words))]\n",
    "    s_words = nltk.word_tokenize(s)\n",
    "    s_words = [stemmer.stem(word.lower()) for word in s_words]\n",
    "\n",
    "    for s_word in s_words:\n",
    "        for i, w in enumerate(words):\n",
    "            if w == s_word:\n",
    "                bag[i] = 1\n",
    "\n",
    "    return np.array(bag)"
   ]
  },
  {
   "cell_type": "code",
   "execution_count": 9,
   "metadata": {},
   "outputs": [],
   "source": [
    "def chat():\n",
    "\n",
    "    while True:\n",
    "        inp = input(\"\\n\\nYou: \")\n",
    "        if inp.lower() == 'quit':\n",
    "            break\n",
    "\n",
    "    #Porbability of correct response \n",
    "        results = model.predict([bag_of_words(inp, words)])\n",
    "\n",
    "    # Picking the greatest number from probability\n",
    "        results_index = np.argmax(results)\n",
    "\n",
    "        tag = labels[results_index]\n",
    "\n",
    "        for tg in data['intents']:\n",
    "\n",
    "            if tg['tag'] == tag:\n",
    "                responses = tg['responses']\n",
    "                print(\"Bot:\\t\" + random.choice(responses))"
   ]
  },
  {
   "cell_type": "code",
   "execution_count": null,
   "metadata": {},
   "outputs": [
    {
     "name": "stdout",
     "output_type": "stream",
     "text": [
      "\n",
      "\n",
      "You: Hello\n",
      "Bot:\tGood to see you again\n"
     ]
    }
   ],
   "source": [
    "#TYPE quit TO STOP the conversation\n",
    "chat()"
   ]
  },
  {
   "cell_type": "code",
   "execution_count": null,
   "metadata": {},
   "outputs": [],
   "source": []
  }
 ],
 "metadata": {
  "kernelspec": {
   "display_name": "Python 3 (ipykernel)",
   "language": "python",
   "name": "python3"
  },
  "language_info": {
   "codemirror_mode": {
    "name": "ipython",
    "version": 3
   },
   "file_extension": ".py",
   "mimetype": "text/x-python",
   "name": "python",
   "nbconvert_exporter": "python",
   "pygments_lexer": "ipython3",
   "version": "3.9.5"
  },
  "vscode": {
   "interpreter": {
    "hash": "7ca506a1a95b190e82f6eb9c710cb0d87ff49ca1c6d4407419ca06498133b17e"
   }
  }
 },
 "nbformat": 4,
 "nbformat_minor": 2
}
